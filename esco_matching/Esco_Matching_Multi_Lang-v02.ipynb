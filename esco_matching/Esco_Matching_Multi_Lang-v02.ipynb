{
 "cells": [
  {
   "cell_type": "code",
   "execution_count": 1,
   "metadata": {
    "collapsed": true
   },
   "outputs": [],
   "source": [
    "import pandas as pd\n",
    "import numpy as np\n",
    "import sqlite3\n",
    "import re\n",
    "from sklearn.feature_extraction.text import TfidfVectorizer\n",
    "from fuzzywuzzy import process\n",
    "from fuzzywuzzy import fuzz"
   ]
  },
  {
   "cell_type": "code",
   "execution_count": 2,
   "metadata": {
    "collapsed": true
   },
   "outputs": [],
   "source": [
    "#purpose of this function to match the jobtitles to esco job titles with Levensthein distance. The match here is with the same language\n",
    "def text_match_same_language(row):\n",
    "    if row['language'] == 'HU':\n",
    "        matched_esco = process.extractOne(row['jobtitle'], esco_need_job_titles_hungarian['preferred_occupation_label'].tolist(), scorer=fuzz.token_set_ratio, score_cutoff=85)\n",
    "        return matched_esco\n",
    "    elif row['language'] == 'DE':\n",
    "        matched_esco = process.extractOne(row['jobtitle'], esco_need_job_titles_german['preferred_occupation_label'].tolist(), scorer=fuzz.token_set_ratio, score_cutoff=85)\n",
    "        return matched_esco\n",
    "    elif row['language'] == 'ES':\n",
    "        matched_esco = process.extractOne(row['jobtitle'], esco_need_job_titles_spanish['preferred_occupation_label'].tolist(), scorer=fuzz.token_set_ratio, score_cutoff=85)\n",
    "        return matched_esco\n",
    "    elif row['language'] == 'SV':\n",
    "        matched_esco = process.extractOne(row['jobtitle'], esco_need_job_titles_sweden['preferred_occupation_label'].tolist(), scorer=fuzz.token_set_ratio, score_cutoff=85)\n",
    "        return matched_esco    \n",
    "    elif row['language'] == 'EN':\n",
    "        return row['english_match']"
   ]
  },
  {
   "cell_type": "code",
   "execution_count": 3,
   "metadata": {
    "collapsed": true
   },
   "outputs": [],
   "source": [
    "#Function for cosine distance return the language specific results only\n",
    "\n",
    "def cosine_similarity(language, esco_corpus):\n",
    "    \n",
    "    if language == 'EN':\n",
    "    \n",
    "        vectorizer = TfidfVectorizer(ngram_range=(1,4), analyzer='char', use_idf=False)\n",
    "        vectorizer.fit(esco_corpus['preferred_occupation_label'].tolist())\n",
    "\n",
    "        positions_transformed = vectorizer.transform(list(multi_job['jobtitle']))\n",
    "        esco_tranformed = vectorizer.transform(esco_corpus['preferred_occupation_label'].tolist())\n",
    "\n",
    "\n",
    "        trs = 0.7\n",
    "        sim_mat = positions_transformed * esco_tranformed.T\n",
    "        sim_mat.data *= sim_mat.data >= trs\n",
    "        sim_mat.eliminate_zeros()\n",
    "        sim_mat = sim_mat.tocoo(copy=False)\n",
    "\n",
    "        position_sim = pd.DataFrame({\n",
    "        'pos_ix_row': sim_mat.row,\n",
    "        'pos_ix_col': sim_mat.col,\n",
    "        'ngram_sim': sim_mat.data})\n",
    "\n",
    "        position_sim = pd.merge(\n",
    "        position_sim, multi_job,\n",
    "        how='left',\n",
    "        left_on = 'pos_ix_row',\n",
    "        right_index = True)\n",
    "\n",
    "        position_sim = pd.merge(\n",
    "        position_sim, esco_corpus,\n",
    "        how='left',\n",
    "        left_on = 'pos_ix_col',\n",
    "        right_index = True\n",
    "        )\n",
    "\n",
    "        cosine_sim_result = 'cosine_sim_result' + '_' + language\n",
    "        ngram_sim = 'ngram_sim' + '_' + language\n",
    "        similarity_result = position_sim.loc[position_sim.groupby('uniq_id')['ngram_sim'].idxmax()]\n",
    "        similarity_result.rename(columns={'preferred_occupation_label' : cosine_sim_result,\n",
    "                                        'ngram_sim': ngram_sim}, inplace=True)\n",
    "\n",
    "        multi_job_joined = pd.merge(multi_job, similarity_result[['uniq_id', cosine_sim_result, ngram_sim]], how='left', on='uniq_id')\n",
    "        return multi_job_joined\n",
    "    else:\n",
    "        \n",
    "        language_df = multi_job[multi_job['language']==language].copy()\n",
    "        language_df.reset_index(inplace=True)\n",
    "        del(language_df['index'])\n",
    "        \n",
    "        vectorizer = TfidfVectorizer(ngram_range=(1,4), analyzer='char', use_idf=False)\n",
    "        vectorizer.fit(esco_corpus['preferred_occupation_label'].tolist())\n",
    "\n",
    "        positions_transformed = vectorizer.transform(list(language_df['jobtitle']))\n",
    "        esco_tranformed = vectorizer.transform(esco_corpus['preferred_occupation_label'].tolist())\n",
    "\n",
    "\n",
    "        trs = 0.7\n",
    "        sim_mat = positions_transformed * esco_tranformed.T\n",
    "        sim_mat.data *= sim_mat.data >= trs\n",
    "        sim_mat.eliminate_zeros()\n",
    "        sim_mat = sim_mat.tocoo(copy=False)\n",
    "\n",
    "        position_sim = pd.DataFrame({\n",
    "        'pos_ix_row': sim_mat.row,\n",
    "        'pos_ix_col': sim_mat.col,\n",
    "        'ngram_sim': sim_mat.data})\n",
    "\n",
    "        position_sim = pd.merge(\n",
    "        position_sim, language_df,\n",
    "        how='left',\n",
    "        left_on = 'pos_ix_row',\n",
    "        right_index = True)\n",
    "\n",
    "        position_sim = pd.merge(\n",
    "        position_sim, esco_corpus,\n",
    "        how='left',\n",
    "        left_on = 'pos_ix_col',\n",
    "        right_index = True\n",
    "        )\n",
    "\n",
    "        cosine_sim_result = 'cosine_sim_result' + '_' + language\n",
    "        ngram_sim = 'ngram_sim' + '_' + language\n",
    "        similarity_result = position_sim.loc[position_sim.groupby('uniq_id')['ngram_sim'].idxmax()]\n",
    "        similarity_result.rename(columns={'preferred_occupation_label' : cosine_sim_result,\n",
    "                                        'ngram_sim': ngram_sim}, inplace=True)\n",
    "\n",
    "        multi_job_joined = pd.merge(language_df, similarity_result[['uniq_id', cosine_sim_result, ngram_sim]], how='left', on='uniq_id')\n",
    "        return multi_job_joined"
   ]
  },
  {
   "cell_type": "code",
   "execution_count": 4,
   "metadata": {
    "collapsed": true
   },
   "outputs": [],
   "source": [
    "#Function for assigning the best possible matches (same language or english) with best scores\n",
    "def prediction_sorter(row):\n",
    "    if row['language'] == 'EN':\n",
    "        if row['english_match'] != 'mv-9':\n",
    "            return row['english_match']\n",
    "        else:\n",
    "            return row['cosine_sim_result_EN']\n",
    "    elif row['language'] == 'HU':\n",
    "        if row['same_language_match'] != 'mv-9':\n",
    "            return row['same_language_match']\n",
    "        elif row['english_match'] != 'mv-9':\n",
    "            return row['english_match']\n",
    "        elif row['cosine_sim_result_HU'] != 'mv-9':\n",
    "            return row['cosine_sim_result_HU']\n",
    "        else:\n",
    "            return row['cosine_sim_result_EN']\n",
    "    elif row['language'] == 'DE':\n",
    "        if row['same_language_match'] != 'mv-9':\n",
    "            return row['same_language_match']\n",
    "        elif row['english_match'] != 'mv-9':\n",
    "            return row['english_match']\n",
    "        elif row['cosine_sim_result_DE'] != 'mv-9':\n",
    "            return row['cosine_sim_result_DE']\n",
    "        else:\n",
    "            return row['cosine_sim_result_EN']\n",
    "    elif row['language'] == 'ES':\n",
    "        if row['same_language_match'] != 'mv-9':\n",
    "            return row['same_language_match']\n",
    "        elif row['english_match'] != 'mv-9':\n",
    "            return row['english_match']\n",
    "        elif row['cosine_sim_result_ES'] != 'mv-9':\n",
    "            return row['cosine_sim_result_ES']\n",
    "        else:\n",
    "            return row['cosine_sim_result_EN']\n",
    "    elif row['language'] == 'SV':\n",
    "        if row['same_language_match'] != 'mv-9':\n",
    "            return row['same_language_match']\n",
    "        elif row['english_match'] != 'mv-9':\n",
    "            return row['english_match']\n",
    "        elif row['cosine_sim_result_SV'] != 'mv-9':\n",
    "            return row['cosine_sim_result_SV']\n",
    "        else:\n",
    "            return row['cosine_sim_result_EN']\n",
    "    "
   ]
  },
  {
   "cell_type": "code",
   "execution_count": 5,
   "metadata": {
    "collapsed": true
   },
   "outputs": [],
   "source": [
    "# if result comes from levenshtein metric then clean it\n",
    "def prediction_cleaner(row):\n",
    "    if type(row['final_match']) == tuple:\n",
    "        return row['final_match'][0]\n",
    "    else:\n",
    "        return row['final_match']"
   ]
  },
  {
   "cell_type": "code",
   "execution_count": 6,
   "metadata": {},
   "outputs": [
    {
     "data": {
      "text/html": [
       "<style>.container { width:100% !important; }</style>"
      ],
      "text/plain": [
       "<IPython.core.display.HTML object>"
      ]
     },
     "metadata": {},
     "output_type": "display_data"
    }
   ],
   "source": [
    "from IPython.core.display import display, HTML\n",
    "display(HTML(\"<style>.container { width:100% !important; }</style>\"))"
   ]
  },
  {
   "cell_type": "code",
   "execution_count": 7,
   "metadata": {},
   "outputs": [
    {
     "name": "stderr",
     "output_type": "stream",
     "text": [
      "C:\\Users\\cameg\\Anaconda3\\lib\\site-packages\\IPython\\core\\interactiveshell.py:2698: DtypeWarning: Columns (6,12,16,17,18,19,20,21) have mixed types. Specify dtype option on import or set low_memory=False.\n",
      "  interactivity=interactivity, compiler=compiler, result=result)\n"
     ]
    }
   ],
   "source": [
    "#read in data which was scraped from various sites and the supporting files. Formatting and content differs in scraped data\n",
    "isco_checked = pd.read_excel('isco_labels_checked.xlsx')\n",
    "esco_joined_multi_lang = pd.read_csv('esco_joined_data_multi_lang_2018_04_28.csv', sep='^', encoding='utf-8')\n",
    "english_job = pd.read_csv('dice_com-job_us_sample.csv')\n",
    "hungarian_job = pd.read_excel('profession_hungarian_positions.xlsx')\n",
    "german_job = pd.read_csv('german_data_complete_2018-05-02.csv', sep='^', encoding='utf-8', header=None)\n",
    "spanish_job = pd.read_csv('spanish_data_2018-05-01.csv', sep='^', encoding='utf-8')\n",
    "swedish_job = pd.read_csv('swedish_data_2018-05-02.csv', sep='^', encoding='utf-8')"
   ]
  },
  {
   "cell_type": "code",
   "execution_count": 8,
   "metadata": {
    "collapsed": true
   },
   "outputs": [],
   "source": [
    "#filter esco for IT only\n",
    "esco_need = esco_joined_multi_lang[esco_joined_multi_lang['iscoGroup'].isin(isco_checked['isco_group'])].copy()\n",
    "esco_need.reset_index(inplace=True)"
   ]
  },
  {
   "cell_type": "code",
   "execution_count": 9,
   "metadata": {
    "collapsed": true
   },
   "outputs": [],
   "source": [
    "#prepare swedish data in unified format, for later merging\n",
    "swedish_job.columns = ['index', 'jobtitle', 'company', 'joblocation_address', 'Job_Detail_Url']\n",
    "del(swedish_job['index'])\n",
    "del(swedish_job['Job_Detail_Url'])\n",
    "swedish_job['row'] = swedish_job.index\n",
    "swedish_job['uniq_id'] = swedish_job['jobtitle'] + ':' + swedish_job['company'] + ':' + swedish_job['joblocation_address'] + ':' + swedish_job['row'].astype(str)\n",
    "del(swedish_job['row'])"
   ]
  },
  {
   "cell_type": "code",
   "execution_count": 10,
   "metadata": {
    "collapsed": true
   },
   "outputs": [],
   "source": [
    "#prepare spanish data in unified format, for later merging\n",
    "spanish_job.columns = ['index', 'jobtitle', 'company', 'joblocation_address', 'Job_Detail_Url']\n",
    "del(spanish_job['index'])\n",
    "del(spanish_job['Job_Detail_Url'])\n",
    "spanish_job['row'] = spanish_job.index\n",
    "spanish_job['uniq_id'] = spanish_job['jobtitle'] + ':' + spanish_job['company'] + ':' + spanish_job['joblocation_address'] + ':' + spanish_job['row'].astype(str)\n",
    "del(spanish_job['row'])"
   ]
  },
  {
   "cell_type": "code",
   "execution_count": 11,
   "metadata": {
    "collapsed": true
   },
   "outputs": [],
   "source": [
    "#prepare german data in unified format, for later merging\n",
    "german_job = german_job.iloc[1:]\n",
    "german_job.columns = ['index', 'jobtitle', 'company', 'joblocation_address', 'Job_Detail_Url']\n",
    "del(german_job['index'])\n",
    "del(german_job['Job_Detail_Url'])\n",
    "german_job['row'] = german_job.index\n",
    "german_job['uniq_id'] = german_job['jobtitle'] + ':' + german_job['company'] + ':' + german_job['joblocation_address'] + ':' + german_job['row'].astype(str)\n",
    "del(german_job['row'])"
   ]
  },
  {
   "cell_type": "code",
   "execution_count": 12,
   "metadata": {
    "collapsed": true
   },
   "outputs": [],
   "source": [
    "#prepare hungarian data in unified format, for later merging\n",
    "hungarian_job['joblocation_address'] = 'Budapest'\n",
    "hungarian_job['row'] = hungarian_job.index\n",
    "hungarian_job.rename(columns={'Position' : 'jobtitle',\n",
    "                             'Company' : 'company'}, inplace=True)\n",
    "hungarian_job['uniq_id'] = hungarian_job['jobtitle'] + ':' + hungarian_job['company'] + ':' + hungarian_job['joblocation_address'] + ':' + hungarian_job['row'].astype(str)\n",
    "del(hungarian_job['row'])\n"
   ]
  },
  {
   "cell_type": "code",
   "execution_count": 13,
   "metadata": {
    "collapsed": true
   },
   "outputs": [],
   "source": [
    "#assign language filter for scraped job board data\n",
    "english_job['language'] = 'EN'\n",
    "hungarian_job['language'] = 'HU'\n",
    "german_job['language'] = 'DE'\n",
    "spanish_job['language'] = 'ES'\n",
    "swedish_job['language'] = 'SV'"
   ]
  },
  {
   "cell_type": "code",
   "execution_count": 14,
   "metadata": {
    "collapsed": true
   },
   "outputs": [],
   "source": [
    "#creating multi language job dataset\n",
    "english_job = english_job[['jobtitle', 'company', 'joblocation_address' , 'uniq_id', 'language']].copy()\n",
    "multi_job = pd.concat([english_job, hungarian_job, german_job, spanish_job, swedish_job])"
   ]
  },
  {
   "cell_type": "code",
   "execution_count": 15,
   "metadata": {
    "collapsed": true
   },
   "outputs": [],
   "source": [
    "#preparing esco data for later matching\n",
    "esco_need_job_titles = esco_need[['preferred_occupation_label', 'language']].copy()\n",
    "esco_need_job_titles['preferred_occupation_label'] = esco_need_job_titles['preferred_occupation_label'].apply(lambda text: text.lower())\n",
    "languages = list(multi_job['language'].drop_duplicates())"
   ]
  },
  {
   "cell_type": "code",
   "execution_count": 16,
   "metadata": {
    "collapsed": true
   },
   "outputs": [],
   "source": [
    "#Creating language speficic job titles from esco. This will be the base for the job title matching later on\n",
    "esco_need_job_titles_hungarian = pd.DataFrame(esco_need_job_titles['preferred_occupation_label'][esco_need_job_titles['language']=='HU'].drop_duplicates())\n",
    "esco_need_job_titles_english = pd.DataFrame(esco_need_job_titles['preferred_occupation_label'][esco_need_job_titles['language']=='EN'].drop_duplicates())\n",
    "esco_need_job_titles_german = pd.DataFrame(esco_need_job_titles['preferred_occupation_label'][esco_need_job_titles['language']=='DE'].drop_duplicates())\n",
    "esco_need_job_titles_spanish = pd.DataFrame(esco_need_job_titles['preferred_occupation_label'][esco_need_job_titles['language']=='ES'].drop_duplicates())\n",
    "esco_need_job_titles_sweden = pd.DataFrame(esco_need_job_titles['preferred_occupation_label'][esco_need_job_titles['language']=='SV'].drop_duplicates())"
   ]
  },
  {
   "cell_type": "code",
   "execution_count": 17,
   "metadata": {
    "collapsed": true
   },
   "outputs": [],
   "source": [
    "#list_of_datasets = [esco_need_job_titles_hungarian, esco_need_job_titles_english, esco_need_job_titles_german , esco_need_job_titles_spanish, esco_need_job_titles_sweden]"
   ]
  },
  {
   "cell_type": "code",
   "execution_count": 18,
   "metadata": {
    "collapsed": true
   },
   "outputs": [],
   "source": [
    "#Resetting indexes - Necessary because of join later on in cosine distance\n",
    "\n",
    "esco_need_job_titles_hungarian.reset_index(inplace=True)\n",
    "del(esco_need_job_titles_hungarian['index'])\n",
    "\n",
    "esco_need_job_titles_english.reset_index(inplace=True)\n",
    "del(esco_need_job_titles_english['index'])\n",
    "\n",
    "esco_need_job_titles_german.reset_index(inplace=True)\n",
    "del(esco_need_job_titles_german['index'])\n",
    "\n",
    "esco_need_job_titles_spanish.reset_index(inplace=True)\n",
    "del(esco_need_job_titles_spanish['index'])\n",
    "\n",
    "esco_need_job_titles_sweden.reset_index(inplace=True)\n",
    "del(esco_need_job_titles_sweden['index'])\n",
    "   "
   ]
  },
  {
   "cell_type": "code",
   "execution_count": 19,
   "metadata": {
    "collapsed": true
   },
   "outputs": [],
   "source": [
    "#esco_need_job_titles_hungarian = esco_need_job_titles_hungarian['preferred_occupation_label'].tolist()\n",
    "#esco_need_job_titles_english = esco_need_job_titles_english['preferred_occupation_label'].tolist()\n",
    "#esco_need_job_titles_german = esco_need_job_titles_german['preferred_occupation_label'].tolist()\n",
    "#esco_need_job_titles_spanish = esco_need_job_titles_spanish['preferred_occupation_label'].tolist()\n",
    "#esco_need_job_titles_sweden = esco_need_job_titles_sweden['preferred_occupation_label'].tolist()"
   ]
  },
  {
   "cell_type": "code",
   "execution_count": 20,
   "metadata": {
    "collapsed": true
   },
   "outputs": [],
   "source": [
    "#lowercasing job titles in scraped data\n",
    "multi_job['jobtitle'] = multi_job['jobtitle'].apply(lambda text: text.lower())"
   ]
  },
  {
   "cell_type": "code",
   "execution_count": 21,
   "metadata": {
    "collapsed": true
   },
   "outputs": [],
   "source": [
    "#formatting of merged job data\n",
    "multi_job = multi_job.astype(str)\n",
    "multi_job.reset_index(inplace=True)\n",
    "del(multi_job['index'])"
   ]
  },
  {
   "cell_type": "code",
   "execution_count": 22,
   "metadata": {
    "collapsed": true
   },
   "outputs": [],
   "source": [
    "#Matching for english esco job titles for all records\n",
    "multi_job['english_match'] = multi_job['jobtitle'].apply(lambda text:\n",
    "    process.extractOne(text, esco_need_job_titles_english['preferred_occupation_label'].tolist(), scorer=fuzz.token_set_ratio, score_cutoff=85))"
   ]
  },
  {
   "cell_type": "code",
   "execution_count": 23,
   "metadata": {
    "collapsed": true
   },
   "outputs": [],
   "source": [
    "#Matching for own language for all records\n",
    "multi_job['same_language_match'] = multi_job.apply(text_match_same_language, axis=1)"
   ]
  },
  {
   "cell_type": "code",
   "execution_count": 24,
   "metadata": {
    "collapsed": true
   },
   "outputs": [],
   "source": [
    "#handling of null values\n",
    "multi_job.fillna('mv-9', inplace=True)"
   ]
  },
  {
   "cell_type": "code",
   "execution_count": 25,
   "metadata": {
    "collapsed": true
   },
   "outputs": [],
   "source": [
    "# running the cosine similarity for each language\n",
    "multi_en = cosine_similarity('EN', esco_need_job_titles_english)\n",
    "multi_hu = cosine_similarity('HU', esco_need_job_titles_hungarian)\n",
    "multi_de = cosine_similarity('DE', esco_need_job_titles_german)\n",
    "multi_es = cosine_similarity('ES', esco_need_job_titles_spanish)\n",
    "multi_sv = cosine_similarity('SV', esco_need_job_titles_sweden)"
   ]
  },
  {
   "cell_type": "code",
   "execution_count": 26,
   "metadata": {
    "collapsed": true
   },
   "outputs": [],
   "source": [
    "#Joining back everything to main dataset\n",
    "multi_job = pd.merge(multi_job, multi_en[['uniq_id', 'cosine_sim_result_EN', 'ngram_sim_EN']], on='uniq_id', how='left')\n",
    "multi_job = pd.merge(multi_job, multi_hu[['uniq_id', 'cosine_sim_result_HU', 'ngram_sim_HU']], on='uniq_id', how='left')\n",
    "multi_job = pd.merge(multi_job, multi_de[['uniq_id', 'cosine_sim_result_DE', 'ngram_sim_DE']], on='uniq_id', how='left')\n",
    "multi_job = pd.merge(multi_job, multi_es[['uniq_id', 'cosine_sim_result_ES', 'ngram_sim_ES']], on='uniq_id', how='left')\n",
    "multi_job = pd.merge(multi_job, multi_sv[['uniq_id', 'cosine_sim_result_SV', 'ngram_sim_SV']], on='uniq_id', how='left')"
   ]
  },
  {
   "cell_type": "code",
   "execution_count": 27,
   "metadata": {
    "collapsed": true
   },
   "outputs": [],
   "source": [
    "#Handling of null values\n",
    "multi_job.fillna('mv-9',inplace=True)"
   ]
  },
  {
   "cell_type": "code",
   "execution_count": 28,
   "metadata": {
    "collapsed": true
   },
   "outputs": [],
   "source": [
    "# select final predictions\n",
    "multi_job['final_match'] = multi_job.apply(prediction_sorter, axis=1)"
   ]
  },
  {
   "cell_type": "code",
   "execution_count": 29,
   "metadata": {
    "collapsed": true
   },
   "outputs": [],
   "source": [
    "# clean final prediction if necessary\n",
    "multi_job['final_match_cleaned'] = multi_job.apply(prediction_cleaner, axis=1)"
   ]
  },
  {
   "cell_type": "code",
   "execution_count": 30,
   "metadata": {
    "collapsed": true
   },
   "outputs": [],
   "source": [
    "#Handling of null values\n",
    "multi_job.fillna('mv-9', inplace=True)"
   ]
  },
  {
   "cell_type": "code",
   "execution_count": 31,
   "metadata": {
    "collapsed": true
   },
   "outputs": [],
   "source": [
    "#writing out complete data (even if no match was found)\n",
    "multi_job.to_excel('esco_multi_lang_matched_2018_05_04.xlsx')"
   ]
  },
  {
   "cell_type": "code",
   "execution_count": 32,
   "metadata": {
    "collapsed": true
   },
   "outputs": [],
   "source": [
    "#Preparing data for visualization. Leaving in data only where there was a match, joining occupation URL's (esco key for positions)\n",
    "multi_job_vis = multi_job[['uniq_id', 'jobtitle', 'company', 'joblocation_address',  'language', 'final_match_cleaned']][multi_job['final_match_cleaned'] != 'mv-9'].copy()\n",
    "multi_job_vis['preferred_occupation_label'] = multi_job_vis['final_match_cleaned']\n",
    "esco_need = esco_need.astype(str)\n",
    "esco_need = esco_need.applymap(lambda text: text.lower())\n",
    "occupation_unique = esco_need[['preferred_occupation_label', 'occupationUri']].drop_duplicates()\n",
    "multi_job_vis = pd.merge(multi_job_vis, occupation_unique, how='left', on='preferred_occupation_label')"
   ]
  },
  {
   "cell_type": "code",
   "execution_count": 33,
   "metadata": {
    "collapsed": true
   },
   "outputs": [],
   "source": [
    "#Writing out data for visualization\n",
    "multi_job_vis.to_excel('esco_matched_for_vis_2018_05_04.xlsx')"
   ]
  },
  {
   "cell_type": "code",
   "execution_count": null,
   "metadata": {
    "collapsed": true
   },
   "outputs": [],
   "source": []
  },
  {
   "cell_type": "code",
   "execution_count": null,
   "metadata": {
    "collapsed": true
   },
   "outputs": [],
   "source": []
  },
  {
   "cell_type": "code",
   "execution_count": null,
   "metadata": {
    "collapsed": true
   },
   "outputs": [],
   "source": []
  }
 ],
 "metadata": {
  "kernelspec": {
   "display_name": "Python 3",
   "language": "python",
   "name": "python3"
  },
  "language_info": {
   "codemirror_mode": {
    "name": "ipython",
    "version": 3
   },
   "file_extension": ".py",
   "mimetype": "text/x-python",
   "name": "python",
   "nbconvert_exporter": "python",
   "pygments_lexer": "ipython3",
   "version": "3.6.3"
  }
 },
 "nbformat": 4,
 "nbformat_minor": 2
}
